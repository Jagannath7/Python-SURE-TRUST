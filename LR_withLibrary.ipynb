{
 "cells": [
  {
   "cell_type": "code",
   "execution_count": 1,
   "metadata": {},
   "outputs": [],
   "source": [
    "import numpy as np\n",
    "import pandas as pd\n",
    "import matplotlib.pyplot as plt\n",
    "%matplotlib inline"
   ]
  },
  {
   "cell_type": "code",
   "execution_count": 2,
   "metadata": {},
   "outputs": [],
   "source": [
    "from sklearn.datasets import make_regression"
   ]
  },
  {
   "cell_type": "code",
   "execution_count": 3,
   "metadata": {},
   "outputs": [],
   "source": [
    "X,y = make_regression(n_samples=500, n_features = 1, bias = 4.2, noise = 12)"
   ]
  },
  {
   "cell_type": "code",
   "execution_count": 4,
   "metadata": {},
   "outputs": [
    {
     "name": "stdout",
     "output_type": "stream",
     "text": [
      "(500, 1)\n",
      "(500,)\n"
     ]
    }
   ],
   "source": [
    "print(X.shape)\n",
    "print(y.shape)"
   ]
  },
  {
   "cell_type": "code",
   "execution_count": 5,
   "metadata": {},
   "outputs": [
    {
     "data": {
      "image/png": "[encoded data removed]",
      "text/plain": [
       "<Figure size 432x288 with 1 Axes>"
      ]
     },
     "metadata": {
      "needs_background": "light"
     },
     "output_type": "display_data"
    }
   ],
   "source": [
    "plt.scatter(X, y)\n",
    "plt.show()"
   ]
  },
  {
   "cell_type": "code",
   "execution_count": 6,
   "metadata": {},
   "outputs": [],
   "source": [
    "from sklearn.model_selection import train_test_split"
   ]
  },
  {
   "cell_type": "code",
   "execution_count": 7,
   "metadata": {},
   "outputs": [],
   "source": [
    "xtrain, xtest, ytrain, ytest = train_test_split(X, y, train_size=0.75)"
   ]
  },
  {
   "cell_type": "code",
   "execution_count": 8,
   "metadata": {},
   "outputs": [
    {
     "name": "stdout",
     "output_type": "stream",
     "text": [
      "(375, 1) (375,)\n",
      "(125, 1) (125,)\n"
     ]
    }
   ],
   "source": [
    "print(xtrain.shape, ytrain.shape)\n",
    "print(xtest.shape, ytest.shape)"
   ]
  },
  {
   "cell_type": "code",
   "execution_count": 9,
   "metadata": {},
   "outputs": [],
   "source": [
    "from sklearn.linear_model import LinearRegression"
   ]
  },
  {
   "cell_type": "code",
   "execution_count": 10,
   "metadata": {},
   "outputs": [],
   "source": [
    "lr = LinearRegression()"
   ]
  },
  {
   "cell_type": "code",
   "execution_count": 11,
   "metadata": {},
   "outputs": [
    {
     "data": {
      "text/plain": [
       "LinearRegression()"
      ]
     },
     "execution_count": 11,
     "metadata": {},
     "output_type": "execute_result"
    }
   ],
   "source": [
    "lr.fit(xtrain, ytrain)"
   ]
  },
  {
   "cell_type": "code",
   "execution_count": 12,
   "metadata": {},
   "outputs": [
    {
     "data": {
      "text/plain": [
       "0.9740511801808701"
      ]
     },
     "execution_count": 12,
     "metadata": {},
     "output_type": "execute_result"
    }
   ],
   "source": [
    "lr.score(xtest, ytest)\n",
    "\n",
    "'''\n",
    "y = w1x1 + w0x0\n",
    "\n",
    "\n",
    "'''"
   ]
  },
  {
   "cell_type": "code",
   "execution_count": 13,
   "metadata": {},
   "outputs": [
    {
     "data": {
      "text/plain": [
       "array([  96.74427489,  -10.85013797,  168.79330858,  135.20977612,\n",
       "        -43.82689424,   20.00713126,   72.90107115, -111.48842592,\n",
       "         47.34947711,   -0.6708617 ,  -32.19886991,   50.47254782,\n",
       "       -153.02282553,  -42.97367786,  -10.27751594,  -35.32293693,\n",
       "        -67.64346661,  -57.61720537,   66.69441354,  -15.19356184,\n",
       "         -0.81252112,   22.32545647,   10.82171688,   60.65929489,\n",
       "         55.10581807, -149.39306569, -107.79400798,    0.25493364,\n",
       "       -113.20920278,  115.68178802,  -43.95760794, -123.98624199,\n",
       "         93.32189662,  -11.51247485,  -67.06651636,  -83.75922573,\n",
       "          9.14210771,   46.20884205,   88.42277084, -125.18943261,\n",
       "         41.70592411,   57.85105306,  -33.16596562,   52.42126081,\n",
       "        -32.49402494,  -24.50159495,   48.93948153,  -32.85603342,\n",
       "          7.33045883,   28.43230699,  169.27246165,  -41.1266693 ,\n",
       "         -3.64788621,   41.10420309,   10.85009466,  145.98132225,\n",
       "         24.9519656 ,    2.76572043,  -58.08557752,  -52.98549739,\n",
       "        -42.85891733,   77.78003127,   75.79371268,   87.06502998,\n",
       "        189.94054188,  -66.18012159,   -2.3985556 ,  -34.37647495,\n",
       "         98.28640401,  -77.61429203,  -31.62119548,   60.2651861 ,\n",
       "        142.32802325, -127.4835151 ,  -31.82096756,   57.79530826,\n",
       "        -10.1453619 ,  201.03416195,  -62.91438004,   -3.08554918,\n",
       "         25.2542672 ,  -12.25668555,   66.00655202,    8.03083471,\n",
       "       -133.91495555,   18.77461097,  -10.07079612,   13.1218265 ,\n",
       "       -110.21026141,  -13.06229673,   64.43361668,   74.55844203,\n",
       "       -109.48843281,  151.75160512, -154.98904434,  -15.83477348,\n",
       "        116.95773027,   70.58574657,  -17.49501959,    5.18175156,\n",
       "         86.0785603 ,  -29.60306722,  -86.6356587 ,    3.82145867,\n",
       "          4.86200909,   30.58049395,   91.60747936,  -39.94388335,\n",
       "        -61.17642578, -166.28791241,  -47.83392083, -211.95629395,\n",
       "         -1.97993063,   68.30645793,    4.09347375,    4.82872787,\n",
       "        -54.75627325,  -64.2038679 ,  -31.34979087,  -32.88508132,\n",
       "        118.697557  ,   66.75290019, -137.05541361,   77.74533176,\n",
       "         57.04776409])"
      ]
     },
     "execution_count": 13,
     "metadata": {},
     "output_type": "execute_result"
    }
   ],
   "source": [
    "lr.predict(xtest)"
   ]
  },
  {
   "cell_type": "code",
   "execution_count": 14,
   "metadata": {},
   "outputs": [
    {
     "data": {
      "text/plain": [
       "array([ 112.48044066,  -13.89434686,  183.50608052,  132.35501518,\n",
       "        -38.15635728,   37.01220663,   54.14742672,  -91.0104139 ,\n",
       "         46.09795738,    4.62296047,   -2.6019519 ,   67.13328314,\n",
       "       -154.46647511,  -12.6849635 ,   -5.76141975,  -15.20682437,\n",
       "        -77.11044788,  -44.66881286,   69.26114185,  -18.75126907,\n",
       "         -3.99695894,   14.37334401,   -9.30668438,   77.85238889,\n",
       "         49.24511546, -161.98168274,  -88.24899996,    8.48536209,\n",
       "       -113.21638011,  119.26728559,  -27.0634261 , -115.3478535 ,\n",
       "         82.69669644,   -9.51979165,  -23.63851498,  -76.76273559,\n",
       "         -1.93868251,   55.41464151,  110.40840692, -112.95264961,\n",
       "         38.50149788,   67.58098353,  -33.94176961,   61.55886014,\n",
       "        -28.01125273,  -12.21191297,   56.67190375,  -29.87155793,\n",
       "          3.60779315,   32.52470596,  178.22220188,  -77.43791897,\n",
       "         -0.39434041,   28.93827735,   -1.1198139 ,  153.47775356,\n",
       "         22.19210342,   -0.82886562,  -55.77398226,  -67.22323676,\n",
       "        -16.06751406,   69.3873814 ,   64.95685119,   55.1212109 ,\n",
       "        216.46691247,  -54.50630265,   -0.94700774,  -44.67109353,\n",
       "         87.2647072 ,  -92.76440376,  -33.18769528,   57.6213663 ,\n",
       "        135.49197616, -145.8237615 ,  -50.75203997,   56.97142867,\n",
       "          0.63104723,  198.31094252,  -58.63749876,   -0.73353427,\n",
       "         26.40985254,  -29.11891322,   54.83202756,   -7.62922982,\n",
       "       -125.19153476,    3.82243204,  -24.83180528,   27.02973698,\n",
       "       -118.97424479,   -7.47083373,   73.70752869,   64.55744623,\n",
       "       -104.56682111,  155.11034456, -161.9549983 ,   -5.75653025,\n",
       "        106.81941188,   63.62749134,    2.22875812,    8.83606452,\n",
       "         95.44234725,  -17.62769013,  -87.7425767 ,   -2.8296237 ,\n",
       "         -3.88829382,   27.55148654,   95.94300292,  -51.81462087,\n",
       "        -68.08867102, -161.98751964,  -61.47234345, -221.79776211,\n",
       "         14.03088078,   59.10718517,   20.11642417,    8.7076631 ,\n",
       "        -56.72952802,  -56.54133352,  -41.11633452,  -29.15924404,\n",
       "        119.86522316,   55.39367194, -144.00377501,   67.72589251,\n",
       "         87.82390944])"
      ]
     },
     "execution_count": 14,
     "metadata": {},
     "output_type": "execute_result"
    }
   ],
   "source": [
    "ytest"
   ]
  },
  {
   "cell_type": "code",
   "execution_count": null,
   "metadata": {},
   "outputs": [],
   "source": []
  }
 ],
 "metadata": {
  "kernelspec": {
   "display_name": "Python 3",
   "language": "python",
   "name": "python3"
  },
  "language_info": {
   "codemirror_mode": {
    "name": "ipython",
    "version": 3
   },
   "file_extension": ".py",
   "mimetype": "text/x-python",
   "name": "python",
   "nbconvert_exporter": "python",
   "pygments_lexer": "ipython3",
   "version": "3.6.6"
  }
 },
 "nbformat": 4,
 "nbformat_minor": 4
}
