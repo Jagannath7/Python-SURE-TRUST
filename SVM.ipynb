{
 "cells": [
  {
   "cell_type": "code",
   "execution_count": 1,
   "metadata": {},
   "outputs": [],
   "source": [
    "import numpy as np\n",
    "from sklearn.model_selection import train_test_split"
   ]
  },
  {
   "cell_type": "code",
   "execution_count": 2,
   "metadata": {},
   "outputs": [],
   "source": [
    "from sklearn.datasets import load_digits"
   ]
  },
  {
   "cell_type": "code",
   "execution_count": 3,
   "metadata": {},
   "outputs": [
    {
     "name": "stdout",
     "output_type": "stream",
     "text": [
      "dict_keys(['data', 'target', 'frame', 'feature_names', 'target_names', 'images', 'DESCR'])\n"
     ]
    }
   ],
   "source": [
    "mnist = load_digits()\n",
    "print(mnist.keys())"
   ]
  },
  {
   "cell_type": "code",
   "execution_count": 4,
   "metadata": {},
   "outputs": [],
   "source": [
    "xtrain, xtest, ytrain, ytest = train_test_split(mnist.data, mnist.target)"
   ]
  },
  {
   "cell_type": "code",
   "execution_count": 5,
   "metadata": {},
   "outputs": [],
   "source": [
    "import matplotlib.pyplot as plt"
   ]
  },
  {
   "cell_type": "code",
   "execution_count": 8,
   "metadata": {},
   "outputs": [
    {
     "data": {
      "text/plain": [
       "(64,)"
      ]
     },
     "execution_count": 8,
     "metadata": {},
     "output_type": "execute_result"
    }
   ],
   "source": [
    "xtrain[0].shape"
   ]
  },
  {
   "cell_type": "code",
   "execution_count": 14,
   "metadata": {},
   "outputs": [
    {
     "data": {
      "image/png": "[encoded data removed]",
      "text/plain": [
       "<Figure size 432x288 with 1 Axes>"
      ]
     },
     "metadata": {
      "needs_background": "light"
     },
     "output_type": "display_data"
    }
   ],
   "source": [
    "plt.imshow(xtrain[846].reshape(8,8), cmap='gray')\n",
    "plt.show()"
   ]
  },
  {
   "cell_type": "code",
   "execution_count": 15,
   "metadata": {},
   "outputs": [
    {
     "data": {
      "text/plain": [
       "3"
      ]
     },
     "execution_count": 15,
     "metadata": {},
     "output_type": "execute_result"
    }
   ],
   "source": [
    "ytrain[846]"
   ]
  },
  {
   "cell_type": "code",
   "execution_count": 13,
   "metadata": {},
   "outputs": [
    {
     "data": {
      "text/plain": [
       "1347"
      ]
     },
     "execution_count": 13,
     "metadata": {},
     "output_type": "execute_result"
    }
   ],
   "source": [
    "len(xtrain)"
   ]
  },
  {
   "cell_type": "code",
   "execution_count": 17,
   "metadata": {},
   "outputs": [],
   "source": [
    "from sklearn.svm import SVC"
   ]
  },
  {
   "cell_type": "code",
   "execution_count": 18,
   "metadata": {},
   "outputs": [],
   "source": [
    "SVC?"
   ]
  },
  {
   "cell_type": "code",
   "execution_count": 20,
   "metadata": {},
   "outputs": [],
   "source": [
    "svm = SVC(kernel='poly', degree=2)"
   ]
  },
  {
   "cell_type": "code",
   "execution_count": 21,
   "metadata": {},
   "outputs": [
    {
     "data": {
      "text/plain": [
       "SVC(degree=2, kernel='poly')"
      ]
     },
     "execution_count": 21,
     "metadata": {},
     "output_type": "execute_result"
    }
   ],
   "source": [
    "svm.fit(xtrain, ytrain)"
   ]
  },
  {
   "cell_type": "code",
   "execution_count": 22,
   "metadata": {},
   "outputs": [
    {
     "data": {
      "text/plain": [
       "array([0, 5, 4, 8, 0, 7, 1, 6, 1, 3, 1, 1, 7, 3, 9, 3, 4, 3, 3, 7, 0, 7,\n",
       "       0, 2, 1, 9, 4, 1, 9, 5, 1, 7, 1, 0, 2, 4, 1, 5, 7, 9, 3, 0, 4, 0,\n",
       "       0, 0, 9, 0, 4, 3, 5, 4, 7, 4, 3, 8, 3, 4, 7, 5, 8, 5, 1, 6, 1, 7,\n",
       "       4, 9, 3, 6, 7, 0, 9, 3, 4, 7, 4, 9, 0, 4, 9, 0, 9, 0, 1, 4, 9, 7,\n",
       "       8, 5, 2, 3, 3, 7, 1, 1, 8, 7, 4, 0, 7, 9, 5, 8, 8, 4, 3, 6, 4, 7,\n",
       "       9, 3, 4, 8, 0, 9, 3, 7, 8, 6, 9, 1, 0, 2, 7, 3, 7, 5, 2, 6, 7, 3,\n",
       "       9, 2, 3, 3, 9, 2, 2, 1, 5, 7, 5, 2, 2, 3, 8, 2, 0, 5, 5, 8, 9, 6,\n",
       "       1, 1, 9, 2, 6, 1, 6, 6, 3, 1, 4, 0, 3, 4, 5, 3, 1, 7, 7, 7, 3, 7,\n",
       "       5, 7, 3, 8, 9, 2, 2, 6, 0, 5, 2, 9, 7, 3, 5, 3, 3, 6, 3, 0, 9, 3,\n",
       "       0, 6, 3, 4, 2, 9, 6, 6, 3, 4, 0, 9, 5, 4, 8, 6, 1, 2, 5, 1, 6, 0,\n",
       "       4, 7, 3, 6, 4, 1, 9, 1, 5, 3, 6, 6, 2, 0, 2, 1, 5, 7, 7, 9, 4, 1,\n",
       "       2, 6, 7, 0, 2, 5, 8, 2, 6, 2, 8, 7, 4, 2, 9, 7, 7, 5, 4, 6, 7, 8,\n",
       "       5, 5, 2, 0, 6, 1, 2, 3, 6, 7, 7, 1, 0, 2, 9, 6, 2, 1, 2, 0, 3, 0,\n",
       "       9, 3, 3, 5, 6, 7, 9, 2, 2, 0, 2, 8, 2, 3, 2, 4, 6, 4, 7, 9, 0, 7,\n",
       "       4, 6, 7, 1, 8, 2, 2, 4, 3, 6, 7, 4, 2, 0, 5, 7, 1, 5, 8, 6, 4, 5,\n",
       "       8, 2, 0, 4, 6, 5, 0, 3, 5, 0, 8, 9, 8, 3, 4, 8, 5, 3, 1, 5, 7, 0,\n",
       "       6, 5, 9, 6, 0, 5, 9, 1, 2, 8, 5, 0, 9, 0, 1, 0, 3, 1, 1, 9, 4, 9,\n",
       "       8, 4, 8, 8, 9, 2, 9, 4, 2, 6, 4, 9, 5, 3, 4, 3, 0, 5, 7, 0, 8, 6,\n",
       "       0, 4, 1, 5, 0, 2, 1, 0, 7, 8, 0, 8, 7, 1, 6, 0, 9, 2, 2, 2, 6, 3,\n",
       "       2, 3, 4, 6, 2, 7, 0, 2, 5, 1, 3, 6, 1, 9, 5, 4, 5, 0, 5, 6, 1, 2,\n",
       "       0, 3, 5, 2, 3, 8, 5, 1, 4, 3])"
      ]
     },
     "execution_count": 22,
     "metadata": {},
     "output_type": "execute_result"
    }
   ],
   "source": [
    "svm.predict(xtest)"
   ]
  },
  {
   "cell_type": "code",
   "execution_count": 23,
   "metadata": {},
   "outputs": [],
   "source": [
    "ypred = svm.predict(xtest)"
   ]
  },
  {
   "cell_type": "code",
   "execution_count": 24,
   "metadata": {},
   "outputs": [
    {
     "data": {
      "text/plain": [
       "array([0, 5, 4, 8, 0, 7, 1, 6, 1, 3, 1, 1, 7, 3, 9, 3, 4, 3, 3, 7, 0, 7,\n",
       "       0, 2, 1, 9, 4, 1, 4, 5, 1, 7, 1, 0, 2, 4, 1, 5, 7, 9, 3, 0, 4, 0,\n",
       "       0, 0, 9, 0, 4, 3, 5, 4, 7, 4, 3, 8, 3, 4, 7, 5, 8, 9, 1, 6, 1, 7,\n",
       "       4, 9, 3, 6, 7, 0, 9, 3, 4, 7, 4, 9, 0, 4, 9, 0, 9, 0, 1, 4, 9, 7,\n",
       "       8, 5, 2, 3, 3, 7, 1, 1, 8, 7, 4, 0, 7, 9, 5, 8, 8, 4, 3, 6, 4, 7,\n",
       "       9, 3, 4, 8, 0, 9, 3, 3, 8, 6, 9, 1, 0, 2, 7, 8, 7, 5, 2, 6, 7, 3,\n",
       "       9, 2, 3, 3, 9, 2, 2, 1, 5, 7, 5, 2, 2, 3, 8, 2, 0, 5, 5, 8, 9, 6,\n",
       "       1, 1, 9, 2, 6, 8, 6, 6, 3, 1, 4, 0, 3, 4, 5, 3, 1, 7, 7, 7, 3, 7,\n",
       "       5, 7, 3, 8, 9, 2, 2, 6, 0, 5, 2, 9, 7, 3, 5, 3, 3, 6, 3, 0, 9, 3,\n",
       "       0, 6, 3, 4, 2, 9, 6, 6, 3, 4, 0, 9, 5, 4, 8, 6, 1, 2, 5, 1, 6, 0,\n",
       "       4, 7, 3, 6, 4, 1, 9, 1, 5, 3, 6, 6, 2, 0, 2, 1, 5, 7, 7, 9, 4, 1,\n",
       "       2, 6, 7, 0, 2, 5, 8, 2, 6, 2, 8, 7, 4, 2, 9, 7, 7, 5, 4, 6, 7, 8,\n",
       "       5, 5, 2, 0, 6, 1, 2, 3, 6, 7, 7, 1, 0, 2, 9, 6, 2, 1, 2, 0, 3, 0,\n",
       "       9, 3, 3, 5, 6, 7, 9, 2, 2, 0, 2, 8, 2, 3, 2, 4, 6, 4, 7, 9, 0, 7,\n",
       "       4, 6, 7, 1, 8, 2, 2, 4, 3, 6, 7, 4, 2, 0, 5, 7, 1, 5, 8, 6, 4, 5,\n",
       "       8, 2, 0, 4, 6, 5, 0, 3, 5, 0, 8, 9, 8, 3, 4, 8, 5, 3, 1, 5, 7, 0,\n",
       "       6, 5, 9, 6, 0, 5, 9, 1, 2, 8, 5, 0, 9, 0, 1, 0, 3, 1, 1, 9, 4, 9,\n",
       "       8, 4, 8, 8, 9, 2, 9, 4, 2, 6, 4, 9, 5, 3, 4, 3, 0, 5, 7, 0, 8, 6,\n",
       "       0, 4, 1, 5, 0, 2, 1, 0, 7, 8, 0, 8, 7, 1, 6, 0, 9, 2, 2, 2, 6, 3,\n",
       "       2, 3, 4, 6, 2, 7, 0, 2, 5, 1, 3, 6, 1, 9, 5, 4, 5, 0, 5, 6, 1, 2,\n",
       "       0, 3, 5, 2, 3, 8, 5, 1, 4, 3])"
      ]
     },
     "execution_count": 24,
     "metadata": {},
     "output_type": "execute_result"
    }
   ],
   "source": [
    "ytest"
   ]
  },
  {
   "cell_type": "code",
   "execution_count": 25,
   "metadata": {},
   "outputs": [
    {
     "data": {
      "text/plain": [
       "450"
      ]
     },
     "execution_count": 25,
     "metadata": {},
     "output_type": "execute_result"
    }
   ],
   "source": [
    "len(ytest)"
   ]
  },
  {
   "cell_type": "code",
   "execution_count": 26,
   "metadata": {},
   "outputs": [
    {
     "name": "stdout",
     "output_type": "stream",
     "text": [
      "98.88888888888889\n"
     ]
    }
   ],
   "source": [
    "\n",
    "count = 0\n",
    "for i in range(450):\n",
    "    if ypred[i] == ytest[i]:\n",
    "        count +=1\n",
    "print((count/len(ytest))*100)"
   ]
  },
  {
   "cell_type": "code",
   "execution_count": 27,
   "metadata": {},
   "outputs": [
    {
     "data": {
      "text/plain": [
       "0.9888888888888889"
      ]
     },
     "execution_count": 27,
     "metadata": {},
     "output_type": "execute_result"
    }
   ],
   "source": [
    "svm.score(xtest, ytest)"
   ]
  },
  {
   "cell_type": "code",
   "execution_count": 28,
   "metadata": {},
   "outputs": [],
   "source": [
    "from keras"
   ]
  }
 ],
 "metadata": {
  "kernelspec": {
   "display_name": "Python 3",
   "language": "python",
   "name": "python3"
  },
  "language_info": {
   "codemirror_mode": {
    "name": "ipython",
    "version": 3
   },
   "file_extension": ".py",
   "mimetype": "text/x-python",
   "name": "python",
   "nbconvert_exporter": "python",
   "pygments_lexer": "ipython3",
   "version": "3.6.6"
  }
 },
 "nbformat": 4,
 "nbformat_minor": 4
}
