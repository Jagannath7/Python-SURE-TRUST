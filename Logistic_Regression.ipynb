{
 "cells": [
  {
   "cell_type": "code",
   "execution_count": 1,
   "metadata": {},
   "outputs": [],
   "source": [
    "import numpy as np\n",
    "import matplotlib.pyplot as plt\n",
    "import pandas as pd\n",
    "%matplotlib inline"
   ]
  },
  {
   "cell_type": "code",
   "execution_count": 2,
   "metadata": {},
   "outputs": [
    {
     "name": "stdout",
     "output_type": "stream",
     "text": [
      "(500, 2) (500, 2)\n"
     ]
    }
   ],
   "source": [
    "m1, cov1, = [1,5], [[1,0.1], [0.1, 1]]\n",
    "\n",
    "m2, cov2, = [4,6], [[1,0.1], [0.1, 1]]\n",
    "\n",
    "dist1 = np.random.multivariate_normal(m1, cov1, 500)\n",
    "dist2 = np.random.multivariate_normal(m2, cov2, 500)\n",
    "\n",
    "print(dist1.shape, dist2.shape)"
   ]
  },
  {
   "cell_type": "code",
   "execution_count": 3,
   "metadata": {},
   "outputs": [
    {
     "data": {
      "image/png": "[encoded data removed]",
      "text/plain": [
       "<Figure size 432x288 with 1 Axes>"
      ]
     },
     "metadata": {
      "needs_background": "light"
     },
     "output_type": "display_data"
    }
   ],
   "source": [
    "plt.scatter(dist1[:, 0], dist1[:, 1])\n",
    "\n",
    "plt.scatter(dist2[:, 0], dist2[:,1])\n",
    "\n",
    "plt.show()"
   ]
  },
  {
   "cell_type": "code",
   "execution_count": 4,
   "metadata": {},
   "outputs": [
    {
     "name": "stdout",
     "output_type": "stream",
     "text": [
      "(1000, 3)\n"
     ]
    }
   ],
   "source": [
    "data = np.zeros((1000, 3))\n",
    "data[:500, :2] = dist1\n",
    "data[500:, :2] = dist2\n",
    "data[500:, -1] = 1\n",
    "print(data.shape)"
   ]
  },
  {
   "cell_type": "code",
   "execution_count": 5,
   "metadata": {},
   "outputs": [
    {
     "data": {
      "text/plain": [
       "array([[0.95267631, 5.07437051, 0.        ],\n",
       "       [1.98847118, 5.14866398, 0.        ],\n",
       "       [2.8468716 , 5.26782477, 0.        ],\n",
       "       ...,\n",
       "       [5.23934928, 5.39614878, 1.        ],\n",
       "       [3.5580442 , 8.35533702, 1.        ],\n",
       "       [4.37735865, 5.25787462, 1.        ]])"
      ]
     },
     "execution_count": 5,
     "metadata": {},
     "output_type": "execute_result"
    }
   ],
   "source": [
    "data"
   ]
  },
  {
   "cell_type": "code",
   "execution_count": 6,
   "metadata": {},
   "outputs": [
    {
     "data": {
      "text/plain": [
       "array([[ 5.18284001,  6.46501317,  1.        ],\n",
       "       [ 0.63499074,  4.6511571 ,  0.        ],\n",
       "       [ 3.93591326,  6.20770632,  1.        ],\n",
       "       [ 0.69861235,  5.15490396,  0.        ],\n",
       "       [ 3.39214683,  6.42776732,  1.        ],\n",
       "       [ 5.93234852,  5.68170801,  1.        ],\n",
       "       [ 2.3203292 ,  7.05522666,  1.        ],\n",
       "       [ 4.50373344,  4.97224312,  1.        ],\n",
       "       [-1.16247504,  4.61669503,  0.        ],\n",
       "       [ 3.00809176,  5.01855947,  0.        ]])"
      ]
     },
     "execution_count": 6,
     "metadata": {},
     "output_type": "execute_result"
    }
   ],
   "source": [
    "np.random.shuffle(data)\n",
    "data[:10]"
   ]
  },
  {
   "cell_type": "code",
   "execution_count": 7,
   "metadata": {},
   "outputs": [],
   "source": [
    "from sklearn.model_selection import train_test_split"
   ]
  },
  {
   "cell_type": "code",
   "execution_count": 8,
   "metadata": {},
   "outputs": [
    {
     "name": "stdout",
     "output_type": "stream",
     "text": [
      "(750, 2) (750,)\n",
      "(250, 2) (250,)\n"
     ]
    }
   ],
   "source": [
    "xtrain, xtest, ytrain, ytest = train_test_split(data[:, :2], data[:, -1])\n",
    "\n",
    "print(xtrain.shape, ytrain.shape)\n",
    "print(xtest.shape, ytest.shape)"
   ]
  },
  {
   "cell_type": "code",
   "execution_count": 10,
   "metadata": {},
   "outputs": [],
   "source": [
    "def sigmoid(z):\n",
    "    return 1 / (1 + np.exp(-1*z))"
   ]
  },
  {
   "cell_type": "code",
   "execution_count": 11,
   "metadata": {},
   "outputs": [],
   "source": [
    "def hypothesis(X, W, b):\n",
    "    h = (X*W).sum() + b\n",
    "    return sigmoid(h)"
   ]
  },
  {
   "cell_type": "code",
   "execution_count": 12,
   "metadata": {},
   "outputs": [],
   "source": [
    "def log_likelihood(X, W,b, y):\n",
    "    total = 0.0\n",
    "    m = X.shape[0]\n",
    "    for i in range(m):\n",
    "        if y[i] == 0:\n",
    "            total += np.log(1-hypothesis(X[i], W, b))\n",
    "        else:\n",
    "            total += np.log(hypothesis(X[i], W, b))\n",
    "            \n",
    "    total /=m \n",
    "    return total"
   ]
  },
  {
   "cell_type": "code",
   "execution_count": 13,
   "metadata": {},
   "outputs": [],
   "source": [
    "def gradient_ascent(X, W, b, y, lr = 0.1):\n",
    "    \n",
    "    m = X.shape[0]\n",
    "    gradW = np.zeros(2)\n",
    "    gradb = 0.0\n",
    "    \n",
    "    for i in range(m):\n",
    "        gradW += (y[i] - hypothesis(X[i], W, b))*X[i]\n",
    "        gradb += (y[i] - hypothesis(X[i], W, b))*1\n",
    "        \n",
    "        gradW /=m\n",
    "        gradb /=m\n",
    "        \n",
    "        W += lr*gradW\n",
    "        b += lr*gradb\n",
    "        \n",
    "        logs = log_likelihood(X, W, b, y)\n",
    "    \n",
    "    return W, b, logs"
   ]
  },
  {
   "cell_type": "code",
   "execution_count": null,
   "metadata": {},
   "outputs": [
    {
     "name": "stdout",
     "output_type": "stream",
     "text": [
      "0\n",
      "1\n",
      "2\n",
      "3\n",
      "4\n",
      "5\n",
      "6\n",
      "7\n",
      "8\n",
      "9\n",
      "10\n",
      "11\n",
      "12\n",
      "13\n",
      "14\n",
      "15\n",
      "16\n",
      "17\n",
      "18\n",
      "19\n",
      "20\n",
      "21\n",
      "22\n",
      "23\n",
      "24\n",
      "25\n",
      "26\n",
      "27\n",
      "28\n",
      "29\n",
      "30\n",
      "31\n",
      "32\n",
      "33\n",
      "34\n",
      "35\n",
      "36\n",
      "37\n",
      "38\n",
      "39\n",
      "40\n",
      "41\n",
      "42\n",
      "43\n",
      "44\n",
      "45\n",
      "46\n",
      "47\n",
      "48\n",
      "49\n",
      "50\n",
      "51\n",
      "52\n",
      "53\n",
      "54\n",
      "55\n",
      "56\n",
      "57\n",
      "58\n",
      "59\n",
      "60\n",
      "61\n",
      "62\n",
      "63\n",
      "64\n",
      "65\n",
      "66\n",
      "67\n",
      "68\n",
      "69\n",
      "70\n",
      "71\n",
      "72\n",
      "73\n",
      "74\n",
      "75\n",
      "76\n",
      "77\n",
      "78\n",
      "79\n",
      "80\n",
      "81\n",
      "82\n",
      "83\n",
      "84\n",
      "85\n",
      "86\n",
      "87\n",
      "88\n",
      "89\n",
      "90\n",
      "91\n",
      "92\n",
      "93\n",
      "94\n",
      "95\n",
      "96\n",
      "97\n",
      "98\n",
      "99\n",
      "100\n",
      "101\n",
      "102\n",
      "103\n",
      "104\n",
      "105\n",
      "106\n",
      "107\n",
      "108\n",
      "109\n",
      "110\n",
      "111\n",
      "112\n",
      "113\n",
      "114\n",
      "115\n",
      "116\n",
      "117\n",
      "118\n",
      "119\n",
      "120\n",
      "121\n",
      "122\n",
      "123\n",
      "124\n",
      "125\n",
      "126\n",
      "127\n"
     ]
    }
   ],
   "source": [
    "W = np.array([0.5, 0.5])\n",
    "b = 2.2\n",
    "logs_list = []\n",
    "for i in range(500):\n",
    "    print(i)\n",
    "    W, b, logs = gradient_ascent(xtrain, W, b, ytrain)\n",
    "    logs_list.append(logs)\n",
    "\n",
    "print(W)\n",
    "print(b)"
   ]
  },
  {
   "cell_type": "code",
   "execution_count": 18,
   "metadata": {},
   "outputs": [
    {
     "data": {
      "image/png": "[encoded data removed]",
      "text/plain": [
       "<Figure size 432x288 with 1 Axes>"
      ]
     },
     "metadata": {
      "needs_background": "light"
     },
     "output_type": "display_data"
    }
   ],
   "source": [
    "plt.plot(y[:, 0])\n",
    "plt.show()"
   ]
  },
  {
   "cell_type": "code",
   "execution_count": 9,
   "metadata": {},
   "outputs": [],
   "source": [
    "from sklearn.linear_model import LogisticRegression"
   ]
  },
  {
   "cell_type": "code",
   "execution_count": 10,
   "metadata": {},
   "outputs": [],
   "source": [
    "lr = LogisticRegression()"
   ]
  },
  {
   "cell_type": "code",
   "execution_count": 11,
   "metadata": {},
   "outputs": [
    {
     "data": {
      "text/plain": [
       "LogisticRegression()"
      ]
     },
     "execution_count": 11,
     "metadata": {},
     "output_type": "execute_result"
    }
   ],
   "source": [
    "lr.fit(xtrain, ytrain)"
   ]
  },
  {
   "cell_type": "code",
   "execution_count": 12,
   "metadata": {},
   "outputs": [
    {
     "data": {
      "text/plain": [
       "0.932"
      ]
     },
     "execution_count": 12,
     "metadata": {},
     "output_type": "execute_result"
    }
   ],
   "source": [
    "lr.score(xtest, ytest)"
   ]
  },
  {
   "cell_type": "code",
   "execution_count": 13,
   "metadata": {},
   "outputs": [
    {
     "data": {
      "text/plain": [
       "array([1., 0., 1., 1., 0., 1., 0., 0., 0., 0., 1., 1., 0., 0., 1., 1., 0.,\n",
       "       0., 0., 0., 0., 0., 1., 0., 0., 1., 0., 1., 0., 1., 1., 1., 1., 0.,\n",
       "       0., 1., 1., 1., 0., 1., 1., 0., 0., 0., 1., 0., 0., 1., 1., 0., 1.,\n",
       "       0., 1., 0., 1., 0., 0., 0., 1., 1., 0., 0., 1., 0., 0., 0., 0., 1.,\n",
       "       0., 1., 0., 1., 0., 1., 0., 0., 1., 1., 1., 1., 1., 1., 1., 0., 1.,\n",
       "       0., 0., 1., 1., 1., 1., 0., 1., 1., 1., 1., 0., 1., 0., 0., 1., 1.,\n",
       "       1., 0., 1., 0., 1., 1., 1., 1., 1., 1., 0., 1., 1., 0., 1., 1., 1.,\n",
       "       1., 0., 1., 0., 0., 0., 0., 0., 1., 1., 0., 0., 0., 0., 0., 1., 1.,\n",
       "       0., 0., 1., 1., 1., 1., 0., 1., 0., 0., 1., 0., 0., 1., 0., 1., 0.,\n",
       "       0., 1., 0., 0., 0., 1., 1., 1., 1., 1., 0., 0., 1., 1., 0., 0., 1.,\n",
       "       0., 0., 1., 1., 1., 0., 1., 1., 0., 1., 0., 0., 0., 1., 0., 0., 1.,\n",
       "       1., 0., 1., 0., 1., 0., 1., 1., 0., 1., 1., 1., 0., 0., 1., 1., 1.,\n",
       "       1., 0., 0., 0., 1., 1., 1., 0., 0., 1., 1., 0., 0., 1., 1., 0., 1.,\n",
       "       0., 0., 0., 0., 0., 0., 0., 0., 0., 0., 1., 0., 1., 1., 0., 1., 0.,\n",
       "       1., 0., 0., 1., 1., 1., 1., 1., 1., 1., 0., 1.])"
      ]
     },
     "execution_count": 13,
     "metadata": {},
     "output_type": "execute_result"
    }
   ],
   "source": [
    "lr.predict(xtest)"
   ]
  },
  {
   "cell_type": "code",
   "execution_count": 16,
   "metadata": {},
   "outputs": [],
   "source": [
    "y = lr.predict_proba(xtest)"
   ]
  },
  {
   "cell_type": "code",
   "execution_count": 15,
   "metadata": {},
   "outputs": [
    {
     "data": {
      "text/plain": [
       "array([[-4.56434615e+00, -1.04713213e-02],\n",
       "       [-5.12138578e-02, -2.99724277e+00],\n",
       "       [-4.08605638e+00, -1.69481897e-02],\n",
       "       [-3.85305590e+00, -2.14430753e-02],\n",
       "       [-1.49533258e-03, -6.50615421e+00],\n",
       "       [-5.13323190e+00, -5.91492834e-03],\n",
       "       [-9.54597039e-02, -2.39640126e+00],\n",
       "       [-4.23855745e-04, -7.76632930e+00],\n",
       "       [-1.69745878e-03, -6.37947159e+00],\n",
       "       [-3.10003566e-02, -3.48921671e+00],\n",
       "       [-2.50445115e+00, -8.52534011e-02],\n",
       "       [-4.46765264e+00, -1.15405551e-02],\n",
       "       [-1.08420459e-01, -2.27545896e+00],\n",
       "       [-6.88994881e-03, -4.98113462e+00],\n",
       "       [-8.88013671e-01, -5.30131218e-01],\n",
       "       [-4.86737960e+00, -7.72324658e-03],\n",
       "       [-1.44057114e-01, -2.00870946e+00],\n",
       "       [-2.01138081e-02, -3.91638878e+00],\n",
       "       [-1.34921816e-02, -4.31238341e+00],\n",
       "       [-3.98842326e-03, -5.52635285e+00],\n",
       "       [-3.65385678e-01, -1.18393807e+00],\n",
       "       [-4.36269607e-03, -5.43684560e+00],\n",
       "       [-4.98114615e+00, -6.88986911e-03],\n",
       "       [-2.09783446e-02, -3.87473542e+00],\n",
       "       [-6.00939480e-04, -7.41731678e+00],\n",
       "       [-3.58784441e+00, -2.80475665e-02],\n",
       "       [-1.76478896e-01, -1.82149606e+00],\n",
       "       [-4.77914344e+00, -8.43869958e-03],\n",
       "       [-2.75789001e-03, -5.89466801e+00],\n",
       "       [-2.65514293e+00, -7.28812700e-02],\n",
       "       [-6.68749492e+00, -1.24717860e-03],\n",
       "       [-2.02096008e+00, -1.42172236e-01],\n",
       "       [-6.96149399e+00, -9.48129026e-04],\n",
       "       [-4.07036847e-01, -1.09547620e+00],\n",
       "       [-2.67141877e-01, -1.45057456e+00],\n",
       "       [-4.72736353e+00, -8.88916425e-03],\n",
       "       [-1.07325934e+00, -4.18386771e-01],\n",
       "       [-6.96052092e+00, -9.49052511e-04],\n",
       "       [-1.86022492e-03, -6.28798784e+00],\n",
       "       [-2.15969883e+00, -1.22574336e-01],\n",
       "       [-2.53080957e+00, -8.29410069e-02],\n",
       "       [-8.47062023e-03, -4.77538387e+00],\n",
       "       [-5.94832572e-04, -7.42752798e+00],\n",
       "       [-6.07703979e-02, -2.83088381e+00],\n",
       "       [-9.86487321e-01, -4.66624092e-01],\n",
       "       [-7.88349503e-02, -2.57955738e+00],\n",
       "       [-1.19675252e-01, -2.18221438e+00],\n",
       "       [-3.15990045e+00, -4.33564169e-02],\n",
       "       [-1.99432334e+00, -1.46304878e-01],\n",
       "       [-2.28127532e-01, -1.58974674e+00],\n",
       "       [-1.57779366e+00, -2.31213590e-01],\n",
       "       [-2.10785923e-01, -1.66045461e+00],\n",
       "       [-2.02408383e+00, -1.41695862e-01],\n",
       "       [-3.63735574e-03, -5.61831643e+00],\n",
       "       [-6.28519612e+00, -1.86543025e-03],\n",
       "       [-1.87868478e-02, -3.98397696e+00],\n",
       "       [-1.17774275e-01, -2.19729466e+00],\n",
       "       [-4.32914766e-04, -7.74518614e+00],\n",
       "       [-2.48464986e+00, -8.70347244e-02],\n",
       "       [-7.94338964e-01, -6.01260755e-01],\n",
       "       [-5.31699583e-02, -2.96072892e+00],\n",
       "       [-2.12830010e-02, -3.86046923e+00],\n",
       "       [-3.24210913e+00, -3.98655568e-02],\n",
       "       [-5.31342172e-02, -2.96138364e+00],\n",
       "       [-5.32654551e-02, -2.95898179e+00],\n",
       "       [-1.70748402e-02, -4.07867451e+00],\n",
       "       [-3.14966499e-01, -1.30864216e+00],\n",
       "       [-3.52267737e+00, -2.99647860e-02],\n",
       "       [-2.90917053e-02, -3.55181278e+00],\n",
       "       [-3.56613181e+00, -2.86721214e-02],\n",
       "       [-5.45353707e-04, -7.51434863e+00],\n",
       "       [-8.43196650e+00, -2.17816500e-04],\n",
       "       [-4.69519849e-01, -9.81636074e-01],\n",
       "       [-2.07815497e+00, -1.33715324e-01],\n",
       "       [-7.21603197e-03, -4.93505591e+00],\n",
       "       [-2.32105908e-02, -3.77472945e+00],\n",
       "       [-3.32095985e+00, -3.67865511e-02],\n",
       "       [-8.61548273e+00, -1.81293719e-04],\n",
       "       [-3.92912236e+00, -1.98567674e-02],\n",
       "       [-1.43203754e+00, -2.72887805e-01],\n",
       "       [-3.11493344e+00, -4.53964634e-02],\n",
       "       [-6.51422732e+00, -1.48330027e-03],\n",
       "       [-3.52395617e+00, -2.99259127e-02],\n",
       "       [-1.03393799e-03, -6.87489740e+00],\n",
       "       [-5.51682647e+00, -4.02667699e-03],\n",
       "       [-1.57705444e-02, -4.15748627e+00],\n",
       "       [-2.03909894e-02, -3.90284034e+00],\n",
       "       [-4.78578090e+00, -8.38263888e-03],\n",
       "       [-2.20878042e+00, -1.16347900e-01],\n",
       "       [-6.12239786e+00, -2.19559925e-03],\n",
       "       [-3.94853347e+00, -1.94713015e-02],\n",
       "       [-3.42975429e-01, -1.23668764e+00],\n",
       "       [-8.14458892e+00, -2.90344110e-04],\n",
       "       [-1.23316956e+00, -3.44418373e-01],\n",
       "       [-4.72251769e+00, -8.93253771e-03],\n",
       "       [-9.68224468e+00, -6.23832664e-05],\n",
       "       [-6.13354944e-01, -7.79862627e-01],\n",
       "       [-5.62745446e+00, -3.60420917e-03],\n",
       "       [-9.40670844e-04, -6.96938757e+00],\n",
       "       [-4.83702111e-01, -9.58407372e-01],\n",
       "       [-7.19887742e+00, -7.47703844e-04],\n",
       "       [-3.08683842e+00, -4.67206491e-02],\n",
       "       [-5.29451218e+00, -5.03169997e-03],\n",
       "       [-5.50399808e-02, -2.92708920e+00],\n",
       "       [-4.46319796e+00, -1.15923791e-02],\n",
       "       [-6.48215224e-04, -7.34161187e+00],\n",
       "       [-1.02474692e+00, -4.44549991e-01],\n",
       "       [-6.41054128e+00, -1.64548739e-03],\n",
       "       [-4.83302967e+00, -7.99423020e-03],\n",
       "       [-5.60588787e+00, -3.68292881e-03],\n",
       "       [-2.57554989e+00, -7.91643818e-02],\n",
       "       [-6.09719512e+00, -2.25170069e-03],\n",
       "       [-3.54801333e-03, -5.64314094e+00],\n",
       "       [-5.86146582e+00, -2.85112793e-03],\n",
       "       [-7.45502364e+00, -5.78695395e-04],\n",
       "       [-6.35226650e-03, -5.06211805e+00],\n",
       "       [-1.47722683e+00, -2.59120326e-01],\n",
       "       [-4.60831906e+00, -1.00185796e-02],\n",
       "       [-1.44922794e+00, -2.67554609e-01],\n",
       "       [-5.87450514e+00, -2.81414049e-03],\n",
       "       [-1.59815719e-03, -6.43970304e+00],\n",
       "       [-7.41766464e+00, -6.00730414e-04],\n",
       "       [-5.14239159e-02, -2.99325370e+00],\n",
       "       [-1.67760015e-01, -1.86792844e+00],\n",
       "       [-3.47208767e-02, -3.37772435e+00],\n",
       "       [-2.90786275e-01, -1.37703915e+00],\n",
       "       [-1.56688502e-01, -1.93081700e+00],\n",
       "       [-7.65343072e-01, -6.25814408e-01],\n",
       "       [-1.04696319e+00, -4.32325735e-01],\n",
       "       [-3.98225603e-03, -5.52789725e+00],\n",
       "       [-4.00839350e-01, -1.10792850e+00],\n",
       "       [-1.03729952e-01, -2.31738106e+00],\n",
       "       [-1.90261970e-03, -6.26547471e+00],\n",
       "       [-1.26866416e-02, -4.37354229e+00],\n",
       "       [-6.21834873e+00, -1.99452044e-03],\n",
       "       [-4.95207938e+00, -7.09379674e-03],\n",
       "       [-9.18078125e-04, -6.99368707e+00],\n",
       "       [-3.41257800e-02, -3.39471654e+00],\n",
       "       [-3.25195752e+00, -3.94670595e-02],\n",
       "       [-7.82025662e+00, -4.01599261e-04],\n",
       "       [-5.68912049e+00, -3.38830048e-03],\n",
       "       [-8.23154595e-01, -5.78113628e-01],\n",
       "       [-1.10936015e-04, -9.10661243e+00],\n",
       "       [-6.05934258e+00, -2.33866864e-03],\n",
       "       [-2.32737178e-02, -3.77204484e+00],\n",
       "       [-1.38832084e-02, -4.28400877e+00],\n",
       "       [-3.50054544e+00, -3.06457372e-02],\n",
       "       [-8.12018634e-02, -2.55114329e+00],\n",
       "       [-2.52037515e-02, -3.69333784e+00],\n",
       "       [-1.53467286e+00, -2.42742087e-01],\n",
       "       [-1.76084437e-02, -4.04816804e+00],\n",
       "       [-5.91072047e+00, -2.71391287e-03],\n",
       "       [-4.31786747e-03, -5.44715180e+00],\n",
       "       [-1.64748124e-03, -6.40933131e+00],\n",
       "       [-1.85771577e+00, -1.69636705e-01],\n",
       "       [-5.30375800e-02, -2.96315615e+00],\n",
       "       [-2.88540909e-01, -1.38372227e+00],\n",
       "       [-4.03779318e-02, -3.22959292e+00],\n",
       "       [-1.31793213e+00, -3.11549000e-01],\n",
       "       [-5.62659411e+00, -3.60731702e-03],\n",
       "       [-4.08059334e+00, -1.70418272e-02],\n",
       "       [-5.11271152e+00, -6.03792980e-03],\n",
       "       [-1.43223598e+00, -2.72825554e-01],\n",
       "       [-9.77461470e-02, -2.37385651e+00],\n",
       "       [-3.80691117e-01, -1.15008121e+00],\n",
       "       [-1.17758702e+00, -3.68199804e-01],\n",
       "       [-5.43558961e+00, -4.36819103e-03],\n",
       "       [-1.02006889e-02, -4.59039603e+00],\n",
       "       [-1.02448167e-05, -1.14887438e+01],\n",
       "       [-1.71607631e+00, -1.98170646e-01],\n",
       "       [-1.25004796e-02, -4.38823199e+00],\n",
       "       [-5.14041782e-04, -7.57346302e+00],\n",
       "       [-6.88950815e+00, -1.01893357e-03],\n",
       "       [-1.25638128e+01, -3.49627998e-06],\n",
       "       [-7.70858684e+00, -4.49056287e-04],\n",
       "       [-6.74656442e-02, -2.72967996e+00],\n",
       "       [-1.97483556e+00, -1.49410089e-01],\n",
       "       [-1.53841974e+00, -2.41715124e-01],\n",
       "       [-7.84611716e-02, -2.58412550e+00],\n",
       "       [-3.82677792e+00, -2.20203567e-02],\n",
       "       [-4.52521702e-03, -5.40035150e+00],\n",
       "       [-2.65242312e-02, -3.64292938e+00],\n",
       "       [-3.35406379e-04, -8.00033539e+00],\n",
       "       [-2.08325032e+00, -1.32988464e-01],\n",
       "       [-1.52150252e-02, -4.19306970e+00],\n",
       "       [-4.44339990e-04, -7.71914271e+00],\n",
       "       [-5.00547823e+00, -6.72368931e-03],\n",
       "       [-3.24485061e+00, -3.97542174e-02],\n",
       "       [-2.95312152e-03, -5.82636872e+00],\n",
       "       [-8.59934932e+00, -1.84242597e-04],\n",
       "       [-3.12172270e-01, -1.31622904e+00],\n",
       "       [-1.12777160e+00, -3.91198225e-01],\n",
       "       [-1.12952451e-01, -2.23673302e+00],\n",
       "       [-5.58934855e+00, -3.74446361e-03],\n",
       "       [-7.70041642e-01, -6.21745617e-01],\n",
       "       [-1.36075132e-02, -4.30392924e+00],\n",
       "       [-7.03048922e+00, -8.84890360e-04],\n",
       "       [-6.40490321e+00, -1.65479867e-03],\n",
       "       [-5.16163394e+00, -5.74881860e-03],\n",
       "       [-1.72523200e-03, -6.36325624e+00],\n",
       "       [-4.80168285e-03, -5.34118871e+00],\n",
       "       [-2.93525314e+00, -5.45800284e-02],\n",
       "       [-3.03663302e+00, -4.91862737e-02],\n",
       "       [-3.09962738e+00, -4.61130421e-02],\n",
       "       [-3.89602563e+00, -2.05318638e-02],\n",
       "       [-4.63258516e-01, -9.92173208e-01],\n",
       "       [-1.93521468e-02, -3.95461239e+00],\n",
       "       [-1.20604304e-02, -4.42384956e+00],\n",
       "       [-6.65682157e+00, -1.28605149e-03],\n",
       "       [-2.25043498e+00, -1.11326486e-01],\n",
       "       [-1.10163253e+00, -4.03958404e-01],\n",
       "       [-6.03630163e-01, -7.91472440e-01],\n",
       "       [-1.24968232e-02, -4.38852271e+00],\n",
       "       [-4.45545879e+00, -1.16829707e-02],\n",
       "       [-7.20387736e-01, -6.66629037e-01],\n",
       "       [-1.39148968e-03, -6.57807605e+00],\n",
       "       [-9.15691729e-02, -2.43609584e+00],\n",
       "       [-2.87537081e+00, -5.80478697e-02],\n",
       "       [-4.89296187e+00, -7.52743816e-03],\n",
       "       [-1.21137226e-02, -4.41946712e+00],\n",
       "       [-6.69524590e+00, -1.23754315e-03],\n",
       "       [-6.17064686e-03, -5.09103534e+00],\n",
       "       [-3.40920110e-03, -5.68298141e+00],\n",
       "       [-5.12861976e-03, -5.27548192e+00],\n",
       "       [-3.93240633e-03, -5.54046930e+00],\n",
       "       [-1.58809500e-02, -4.15056497e+00],\n",
       "       [-1.33525737e-03, -6.61929877e+00],\n",
       "       [-8.64648563e-02, -2.49093817e+00],\n",
       "       [-3.30378172e-02, -3.42657583e+00],\n",
       "       [-1.38591865e-02, -4.28572857e+00],\n",
       "       [-3.15463278e-05, -1.03640691e+01],\n",
       "       [-6.89633712e+00, -1.01199549e-03],\n",
       "       [-4.34512495e-02, -3.15776263e+00],\n",
       "       [-4.86201734e+00, -7.76493353e-03],\n",
       "       [-9.52555752e-01, -4.87359570e-01],\n",
       "       [-4.07242541e-04, -7.80630524e+00],\n",
       "       [-5.01583041e+00, -6.65421263e-03],\n",
       "       [-2.07131937e-01, -1.67617827e+00],\n",
       "       [-3.68627468e+00, -2.53846863e-02],\n",
       "       [-1.92708520e-02, -3.95878154e+00],\n",
       "       [-1.11470726e-01, -2.24921094e+00],\n",
       "       [-1.02840698e+01, -3.41737525e-05],\n",
       "       [-7.87190681e+00, -3.81379306e-04],\n",
       "       [-5.12110485e+00, -5.98731215e-03],\n",
       "       [-5.65687697e+00, -3.49952609e-03],\n",
       "       [-2.25538469e+00, -1.10745218e-01],\n",
       "       [-3.09665437e+00, -4.62535656e-02],\n",
       "       [-3.46397009e+00, -3.18057121e-02],\n",
       "       [-2.60460640e-02, -3.66088338e+00],\n",
       "       [-2.76592673e+00, -6.49842363e-02]])"
      ]
     },
     "execution_count": 15,
     "metadata": {},
     "output_type": "execute_result"
    }
   ],
   "source": [
    "lr.predict_log_proba(xtest)"
   ]
  },
  {
   "cell_type": "code",
   "execution_count": null,
   "metadata": {},
   "outputs": [],
   "source": []
  }
 ],
 "metadata": {
  "kernelspec": {
   "display_name": "Python 3",
   "language": "python",
   "name": "python3"
  },
  "language_info": {
   "codemirror_mode": {
    "name": "ipython",
    "version": 3
   },
   "file_extension": ".py",
   "mimetype": "text/x-python",
   "name": "python",
   "nbconvert_exporter": "python",
   "pygments_lexer": "ipython3",
   "version": "3.6.6"
  }
 },
 "nbformat": 4,
 "nbformat_minor": 4
}
